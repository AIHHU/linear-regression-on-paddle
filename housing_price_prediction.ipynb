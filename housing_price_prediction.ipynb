{
 "cells": [
  {
   "cell_type": "code",
   "execution_count": 1,
   "metadata": {
    "collapsed": false
   },
   "outputs": [],
   "source": [
    "import paddle.fluid as fluid\n",
    "import paddle\n",
    "import numpy as np\n",
    "import paddle.dataset.uci_housing as uci_housing\n",
    "paddle.enable_static()"
   ]
  },
  {
   "cell_type": "code",
   "execution_count": 2,
   "metadata": {
    "collapsed": false
   },
   "outputs": [],
   "source": [
    "x=fluid.data(name='x',shape=[None,13],dtype='float32')\n",
    "hidden=fluid.layers.fc(input=x,size=100,act='relu')\n",
    "hidden=fluid.layers.fc(input=hidden,size=100,act='relu')\n",
    "net=fluid.layers.fc(input=hidden,size=1,act=None)\n",
    "infer_program=fluid.default_main_program().clone(for_test=True)"
   ]
  },
  {
   "cell_type": "code",
   "execution_count": 3,
   "metadata": {
    "collapsed": false
   },
   "outputs": [],
   "source": [
    "y=fluid.data(name='y',shape=[None,1],dtype='float32')\n",
    "cost=fluid.layers.square_error_cost(input=net,label=y)\n",
    "avg_cost=fluid.layers.mean(cost)\n",
    "optimizer=fluid.optimizer.SGDOptimizer(learning_rate=0.01)\n",
    "opts=optimizer.minimize(avg_cost)"
   ]
  },
  {
   "cell_type": "code",
   "execution_count": 4,
   "metadata": {
    "collapsed": false
   },
   "outputs": [],
   "source": [
    "place=fluid.CUDAPlace(0)\r\n",
    "exe=fluid.Executor(place)\r\n",
    "exe.run(fluid.default_startup_program())"
   ]
  },
  {
   "cell_type": "code",
   "execution_count": 5,
   "metadata": {
    "collapsed": false
   },
   "outputs": [],
   "source": [
    "train_reader=paddle.batch(reader=uci_housing.train(),batch_size=128)\r\n",
    "test_reader=paddle.batch(reader=uci_housing.test(),batch_size=128)\r\n",
    "feeder=fluid.DataFeeder(place=place,feed_list=[x,y])"
   ]
  },
  {
   "cell_type": "markdown",
   "metadata": {
    "collapsed": false
   },
   "source": [
    "这里直接调用接口获取数据，在实际操作中，我们用列表保存每个batch_size的数据，并用字典进行feed"
   ]
  },
  {
   "cell_type": "code",
   "execution_count": null,
   "metadata": {
    "collapsed": false
   },
   "outputs": [],
   "source": [
    "for pass_id in range(300):\r\n",
    "    train_cost=0\r\n",
    "    for batch_id,data in enumerate(train_reader()):\r\n",
    "        train_cost=exe.run(program=fluid.default_main_program(),\r\n",
    "            feed=feeder.feed(data),\r\n",
    "            fetch_list=[avg_cost])\r\n",
    "    print(\"Pass:%d, Cost:%0.5f\" %(pass_id, train_cost[0][-1]))"
   ]
  },
  {
   "cell_type": "code",
   "execution_count": 10,
   "metadata": {
    "collapsed": false
   },
   "outputs": [],
   "source": [
    "for data in test_reader():\r\n",
    "    infer_data=np.array([data[0] for data in data]).astype(\"float32\")\r\n",
    "    infer_label=np.array([data[1] for data in data]).astype(\"float32\")\r\n",
    "    infer_result=exe.run(program=infer_program,\r\n",
    "            feed={x.name:infer_data},fetch_list=[net])\r\n",
    "    for i in range(len(infer_label)):\r\n",
    "        print(\"预测结果 ：%f\" %(infer_result[0][i]))"
   ]
  }
 ],
 "metadata": {
  "kernelspec": {
   "display_name": "PaddlePaddle 2.0.0b0 (Python 3.5)",
   "language": "python",
   "name": "py35-paddle1.2.0"
  },
  "language_info": {
   "codemirror_mode": {
    "name": "ipython",
    "version": 3
   },
   "file_extension": ".py",
   "mimetype": "text/x-python",
   "name": "python",
   "nbconvert_exporter": "python",
   "pygments_lexer": "ipython3",
   "version": "3.7.4"
  }
 },
 "nbformat": 4,
 "nbformat_minor": 1
}

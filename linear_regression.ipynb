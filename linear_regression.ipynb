{
 "cells": [
  {
   "cell_type": "code",
   "execution_count": 8,
   "metadata": {
    "collapsed": false
   },
   "outputs": [],
   "source": [
    "import paddle.fluid as fluid\n",
    "import paddle\n",
    "import numpy as np\n",
    "paddle.enable_static()"
   ]
  },
  {
   "cell_type": "markdown",
   "metadata": {
    "collapsed": false
   },
   "source": [
    "使用静态图模式"
   ]
  },
  {
   "cell_type": "code",
   "execution_count": 9,
   "metadata": {
    "collapsed": false
   },
   "outputs": [],
   "source": [
    "x=fluid.data(name='x',shape=[None,1],dtype='float32')\n",
    "hidden=fluid.layers.fc(input=x,size=100,act='relu')\n",
    "hidden=fluid.layers.fc(input=hidden,size=100,act='relu')\n",
    "net=fluid.layers.fc(input=hidden,size=1,act=None)\n",
    "infer_program=fluid.default_main_program().clone(for_test=True)"
   ]
  },
  {
   "cell_type": "markdown",
   "metadata": {
    "collapsed": false
   },
   "source": [
    "建模，建立预测函数，这里的infer_program将预测模型进行了封装，paddle的program机制就是写到哪里存到哪里"
   ]
  },
  {
   "cell_type": "code",
   "execution_count": 10,
   "metadata": {
    "collapsed": false
   },
   "outputs": [],
   "source": [
    "y=fluid.data(name='y',shape=[None,1],dtype='float32')\n",
    "cost=fluid.layers.square_error_cost(input=net,label=y)\n",
    "avg_cost=fluid.layers.mean(cost)\n",
    "optimizer=fluid.optimizer.SGDOptimizer(learning_rate=0.01)\n",
    "opts=optimizer.minimize(avg_cost)"
   ]
  },
  {
   "cell_type": "markdown",
   "metadata": {
    "collapsed": false
   },
   "source": [
    "编写损失函数，并用优化算法进行优化，这里也属于建模"
   ]
  },
  {
   "cell_type": "code",
   "execution_count": 11,
   "metadata": {
    "collapsed": false
   },
   "outputs": [
    {
     "data": {
      "text/plain": [
       "[]"
      ]
     },
     "execution_count": 11,
     "metadata": {},
     "output_type": "execute_result"
    }
   ],
   "source": [
    "place=fluid.CUDAPlace(0)\r\n",
    "exe=fluid.Executor(place)\r\n",
    "exe.run(fluid.default_startup_program())"
   ]
  },
  {
   "cell_type": "markdown",
   "metadata": {
    "collapsed": false
   },
   "source": [
    "设置工作区，建立执行器，并初始化执行器，这里只是建执行器，并没有封装program，这里的初始化程序是环境默认的"
   ]
  },
  {
   "cell_type": "code",
   "execution_count": 12,
   "metadata": {
    "collapsed": false
   },
   "outputs": [],
   "source": [
    "x_data=np.array([[1.0],[2.0],[3.0],[4.0],[5.0]]).astype('float32')\r\n",
    "y_data=np.array([[3.0],[5.0],[7.0],[9.0],[11.0]]).astype('float32')"
   ]
  },
  {
   "cell_type": "markdown",
   "metadata": {
    "collapsed": false
   },
   "source": [
    "编写喂给神经网络的数据"
   ]
  },
  {
   "cell_type": "code",
   "execution_count": 13,
   "metadata": {
    "collapsed": false
   },
   "outputs": [],
   "source": [
    "for pass_id in range(100):\r\n",
    "    train_cost=exe.run(program=fluid.default_main_program(),feed={x.name:x_data, y.name:y_data},\r\n",
    "    fetch_list=[avg_cost])\r\n",
    "    print(\"Pass:%d, Cost:%0.5f\" %(pass_id,train_cost[0]))"
   ]
  },
  {
   "cell_type": "markdown",
   "metadata": {
    "collapsed": false
   },
   "source": [
    "开始训练，这里100个循环表示训练100次，fetch_list决定了返回值，列表内的变量必须是定义在模型中的变量，所使用的main_program\n",
    "是环境的默认程序，默认将本程序所有的代码封装"
   ]
  },
  {
   "cell_type": "code",
   "execution_count": 14,
   "metadata": {
    "collapsed": false
   },
   "outputs": [
    {
     "name": "stdout",
     "output_type": "stream",
     "text": [
      "12.884837\n",
      "14.875077\n"
     ]
    }
   ],
   "source": [
    "test_data=np.array([[6.0],[7.0]]).astype('float32')\r\n",
    "result=exe.run(program=infer_program,\r\n",
    "feed={x.name:test_data},\r\n",
    "fetch_list=[net])\r\n",
    "print(result[0][0][0])\r\n",
    "print(result[0][1][0])"
   ]
  },
  {
   "cell_type": "markdown",
   "metadata": {
    "collapsed": false
   },
   "source": [
    "用之前封装的infer_program进行预测，这里result得说明一下：第一维度0是为在列表中找到net，找到net以后由于net的数据shape是（2，1）由test_data决定，\n",
    "所以后面的[0][0]或者[1][0]由自己的需要决定，这里绝对不可能是[0][1]"
   ]
  },
  {
   "cell_type": "markdown",
   "metadata": {
    "collapsed": false
   },
   "source": [
    "请点击[此处](https://ai.baidu.com/docs#/AIStudio_Project_Notebook/a38e5576)查看本环境基本用法.  <br>\n",
    "Please click [here ](https://ai.baidu.com/docs#/AIStudio_Project_Notebook/a38e5576) for more detailed instructions. "
   ]
  }
 ],
 "metadata": {
  "kernelspec": {
   "display_name": "PaddlePaddle 2.0.0b0 (Python 3.5)",
   "language": "python",
   "name": "py35-paddle1.2.0"
  },
  "language_info": {
   "codemirror_mode": {
    "name": "ipython",
    "version": 3
   },
   "file_extension": ".py",
   "mimetype": "text/x-python",
   "name": "python",
   "nbconvert_exporter": "python",
   "pygments_lexer": "ipython3",
   "version": "3.7.4"
  }
 },
 "nbformat": 4,
 "nbformat_minor": 1
}
